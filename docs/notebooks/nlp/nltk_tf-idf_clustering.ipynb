{
  "nbformat": 4,
  "nbformat_minor": 0,
  "metadata": {
    "colab": {
      "name": "nltk_tf-idf_clustering.ipynb",
      "provenance": [],
      "collapsed_sections": []
    },
    "kernelspec": {
      "display_name": "Python [default]",
      "language": "python",
      "name": "python3"
    }
  },
  "cells": [
    {
      "metadata": {
        "id": "VdqRAS3WPWo9"
      },
      "cell_type": "markdown",
      "source": [
        "# Example using nltk for TF-IDF clustering"
      ]
    },
    {
      "metadata": {
        "id": "NfsBEc_mQZvg"
      },
      "cell_type": "markdown",
      "source": [
        "## Methodology\n",
        "\n",
        "The following data science steps will be demonstrated:\n",
        "\n",
        "1. Load and process text (for a simplified toy dataset)\n",
        "\n",
        "2. Vectorize text to a numeric matrix  \n",
        "(i) Transform input sentences using count vectorizer  \n",
        "(ii) Transform count vectorizer to a bag-of-words  \n",
        "(iii) Transform bag-of-words to TF-IDF  \n",
        "(iv) Build weighted word counts from TF-IDF  \n",
        "(v) Build cosine similarity of sentences from TF-IDF  \n",
        "(vi) Build a word cloud from the weighted word counts\n",
        "\n",
        "3. Dimensionality Reduction using PCA\n",
        "\n",
        "4. Calculate K-means clusters (unsupervised classification) \n",
        "\n",
        "\n",
        "\n",
        "\n",
        "\n"
      ]
    },
    {
      "metadata": {
        "id": "0kN8mC7zS-4g"
      },
      "cell_type": "markdown",
      "source": [
        "## 1.  Load and process text (for a simplified toy dataset)"
      ]
    },
    {
      "metadata": {
        "id": "G8Wq9rdspJ9q"
      },
      "cell_type": "markdown",
      "source": [
        "**For an example of how to load 'real' data from a file on Google Drive and process the string tokens see: **  \n",
        "<a href=\"https://colab.research.google.com/github/gal-a/blog/blob/master/docs/notebooks/nlp/nltk_preprocess.ipynb\" target=\"_blank\">Process text files</a>  "
      ]
    },
    {
      "metadata": {
        "id": "NN0LWJXzTBfD",
        "colab": {
          "base_uri": "https://localhost:8080/",
          "height": 158
        },
        "outputId": "5bdcd697-48ce-41e7-c8bf-a63e4384bd40"
      },
      "cell_type": "code",
      "source": [
        "# Setup\n",
        "!pip install -q wordcloud\n",
        "import wordcloud\n",
        "\n",
        "import nltk\n",
        "import numpy as np\n",
        "import pandas as pd\n",
        "import matplotlib.pyplot as plt\n",
        "\n",
        "from sklearn.feature_extraction.text import TfidfVectorizer, CountVectorizer, TfidfTransformer\n",
        "\n",
        "from sklearn.metrics.pairwise import cosine_similarity\n",
        "\n",
        "from sklearn.cluster import KMeans\n",
        "from sklearn.decomposition import NMF, LatentDirichletAllocation\n",
        "from sklearn.decomposition import PCA\n",
        "from sklearn.manifold import MDS\n",
        "\n",
        "pd.set_option(\"display.precision\", 4)\n",
        "\n",
        "# Load toy dataset\n",
        "dat = [\n",
        "         ['X', 'aaa aaa'],\n",
        "         ['Y', 'aaa bbb bbb'],\n",
        "         ['Y', 'aaa bbb bbb ddd'],\n",
        "         ['Z', 'aaa bbb ccc eee'],\n",
        "         ['Z', 'aaa bbb ccc fff']\n",
        "      ]\n",
        "df_sentences = pd.DataFrame(dat, columns=['Label', 'Sentence'])\n",
        "\n",
        "labels = df_sentences['Label']\n",
        "print(\"labels:\")\n",
        "print(labels)\n",
        "\n",
        "n_clusters = np.unique(labels).shape[0]\n",
        "print(\"n_clusters:\", n_clusters)"
      ],
      "execution_count": null,
      "outputs": [
        {
          "output_type": "stream",
          "text": [
            "labels:\n",
            "0    X\n",
            "1    Y\n",
            "2    Y\n",
            "3    Z\n",
            "4    Z\n",
            "Name: Label, dtype: object\n",
            "n_clusters: 3\n"
          ],
          "name": "stdout"
        }
      ]
    },
    {
      "metadata": {
        "id": "pYqkfe2b9q2u"
      },
      "cell_type": "markdown",
      "source": [
        "## 2. Vectorize text to a numeric matrix      "
      ]
    },
    {
      "metadata": {
        "id": "XN5WeLgfTMKe",
        "colab": {
          "base_uri": "https://localhost:8080/",
          "height": 532
        },
        "outputId": "9f482d7e-2028-4f43-bfb2-8ef48b33ecd6"
      },
      "cell_type": "code",
      "source": [
        "# Build tf-idf vectorizer and cosine similarity matrix\n",
        "def build_vectorizer(sentences, vocab=None, min_df=0.0, max_df=1.0, ngram_range=(1,1)):   # for a 2-gram use: ngram_range=(1,2)\n",
        "    '''\n",
        "    Build the tf-idf vectorizer: \n",
        "    1. Build the count_vectorizer from the input sentences.\n",
        "    2. Transform count_vectorizer to bag-of-words.\n",
        "    3. Fit the transform to the bag-of-words.\n",
        "    \n",
        "    Note:\n",
        "    Alternatively we can do this directly with 'TfidfVectorizer' instead of using 'CountVectorizer' followed by 'TfidfTransformer'\n",
        "    \n",
        "    Return:\n",
        "    cvec, feature_names, df_bag_of_words, tfidf, df_weights, cos_sim, samp_dist\n",
        "    '''\n",
        "    \n",
        "    # Build count vectorizer\n",
        "    count_vectorizer = CountVectorizer(max_df=max_df, min_df=min_df, vocabulary=vocab, ngram_range=(1,1))  # stop_words='english, max_features=N_FEATURES \n",
        "    cvec = count_vectorizer.fit(sentences)\n",
        "\n",
        "    # Get feature names\n",
        "    feature_names = cvec.get_feature_names()\n",
        "\n",
        "    # Get bag-of-words and analyze\n",
        "    bag_of_words = cvec.transform(sentences)\n",
        "    df_bag_of_words = pd.DataFrame(bag_of_words.todense(), columns=feature_names)\n",
        "    \n",
        "    # Transform bag_of_words into tf-idf matrix\n",
        "    transformer = TfidfTransformer()\n",
        "    tfidf = transformer.fit_transform(bag_of_words)\n",
        "\n",
        "    # Find most popular words and highest weights\n",
        "    word_cnts = np.asarray(bag_of_words.sum(axis=0)).ravel().tolist()  # for each word in column, sum all row counts\n",
        "    df_cnts = pd.DataFrame({'word': feature_names, 'count': word_cnts})\n",
        "    df_cnts = df_cnts.sort_values('count', ascending=False)\n",
        "\n",
        "    # Build word weights as a list and sort them\n",
        "    weights = np.asarray(tfidf.mean(axis=0)).ravel().tolist()\n",
        "    df_weights = pd.DataFrame({'word': feature_names, 'weight': weights})\n",
        "    df_weights = df_weights.sort_values('weight', ascending=False)\n",
        "\n",
        "    df_weights = df_weights.merge(df_cnts, on='word', how='left')\n",
        "    df_weights = df_weights[['word', 'count', 'weight']]\n",
        "\n",
        "    # Cosine similarity of sentences\n",
        "    cos_sim = cosine_similarity(tfidf, tfidf)\n",
        "\n",
        "    # Distance matrix of sentences\n",
        "    samp_dist = 1 - cos_sim\n",
        "\n",
        "    return cvec, feature_names, df_bag_of_words, tfidf, df_weights, cos_sim, samp_dist\n",
        "  \n",
        "# Build\n",
        "sentences = df_sentences['Sentence'].values.tolist()\n",
        "cvec, feature_names, df_bag_of_words, tfidf, df_weights, cos_sim, samp_dist = build_vectorizer(sentences)\n",
        "\n",
        "df_tfidf = pd.DataFrame(tfidf.todense(), columns=feature_names)\n",
        "\n",
        "print(\"%d dummy sentences:\" % len(sentences))\n",
        "print(sentences)\n",
        "print(\"---\")\n",
        "print(\"%d feature_names (each feature represents a distinct word):\" % len(feature_names))\n",
        "print(feature_names)\n",
        "print(\"---\")\n",
        "print(\"df_tfidf[%d,%d]:\" % (len(sentences), len(feature_names)))\n",
        "print(df_tfidf.to_string())\n",
        "print(\"---\")\n",
        "print(\"df_weights:\")\n",
        "print(df_weights)\n",
        "print(\"---\")\n",
        "print(\"cos_sim[%d,%d] (a square matrix of length and width = len(sentences)):\" % (len(sentences), len(sentences)))\n",
        "print(cos_sim)"
      ],
      "execution_count": null,
      "outputs": [
        {
          "output_type": "stream",
          "text": [
            "5 dummy sentences:\n",
            "['aaa aaa', 'aaa bbb bbb', 'aaa bbb bbb ddd', 'aaa bbb ccc eee', 'aaa bbb ccc fff']\n",
            "---\n",
            "6 feature_names (each feature represents a distinct word):\n",
            "['aaa', 'bbb', 'ccc', 'ddd', 'eee', 'fff']\n",
            "---\n",
            "df_tfidf[5,6]:\n",
            "      aaa     bbb     ccc     ddd     eee     fff\n",
            "0  1.0000  0.0000  0.0000  0.0000  0.0000  0.0000\n",
            "1  0.3895  0.9210  0.0000  0.0000  0.0000  0.0000\n",
            "2  0.3016  0.7131  0.0000  0.6329  0.0000  0.0000\n",
            "3  0.3216  0.3802  0.5445  0.0000  0.6749  0.0000\n",
            "4  0.3216  0.3802  0.5445  0.0000  0.0000  0.6749\n",
            "---\n",
            "df_weights:\n",
            "  word  count  weight\n",
            "0  bbb      6  0.4789\n",
            "1  aaa      6  0.4669\n",
            "2  ccc      2  0.2178\n",
            "3  eee      1  0.1350\n",
            "4  fff      1  0.1350\n",
            "5  ddd      1  0.1266\n",
            "---\n",
            "cos_sim[5,5] (a square matrix of length and width = len(sentences)):\n",
            "[[1.         0.38949927 0.30157015 0.32159819 0.32159819]\n",
            " [0.38949927 1.         0.77425086 0.47546655 0.47546655]\n",
            " [0.30157015 0.77425086 1.         0.36813039 0.36813039]\n",
            " [0.32159819 0.47546655 0.36813039 1.         0.54449661]\n",
            " [0.32159819 0.47546655 0.36813039 0.54449661 1.        ]]\n"
          ],
          "name": "stdout"
        }
      ]
    },
    {
      "metadata": {
        "id": "4sYn3f-mHg0z"
      },
      "cell_type": "markdown",
      "source": [
        "**Note how the above cosine similarity matrix corresponds to the original bag-of-words representation shown below:  **\n",
        "\n",
        "* Row 0 cosine similarity values are not similar to rows 1 to 4  \n",
        "* Rows 1 and 2 contain similar values (they are not identical due to the extra word in row 2: 'ddd')\n",
        "* Rows 3 and 4 contain identical values (with columns 3 and 4 shifted)"
      ]
    },
    {
      "metadata": {
        "id": "EoKia9q9QMeL"
      },
      "cell_type": "markdown",
      "source": [
        "## Bag-of-words\n",
        "The bag-of-words representation will usually be sparser than this one (i.e. lots of zero values) since each sentence contains only a few of the words from the entire corpus"
      ]
    },
    {
      "metadata": {
        "id": "eDCU5tQtH1n6",
        "colab": {
          "base_uri": "https://localhost:8080/",
          "height": 141
        },
        "outputId": "647eb218-4f2e-442f-ad6f-6da01e8ee9e3"
      },
      "cell_type": "code",
      "source": [
        "print(\"df_bag_of_words[%d,%d]:\" % (len(sentences), len(feature_names)))\n",
        "print(df_bag_of_words)"
      ],
      "execution_count": null,
      "outputs": [
        {
          "output_type": "stream",
          "text": [
            "df_bag_of_words[5,6]:\n",
            "   aaa  bbb  ccc  ddd  eee  fff\n",
            "0    2    0    0    0    0    0\n",
            "1    1    2    0    0    0    0\n",
            "2    1    2    0    1    0    0\n",
            "3    1    1    1    0    1    0\n",
            "4    1    1    1    0    0    1\n"
          ],
          "name": "stdout"
        }
      ]
    },
    {
      "metadata": {
        "id": "2Y9n3H_wtBwE"
      },
      "cell_type": "markdown",
      "source": [
        "## Build a word cloud from the weighted word counts"
      ]
    },
    {
      "metadata": {
        "id": "edqyqq53tBNz",
        "colab": {
          "base_uri": "https://localhost:8080/",
          "height": 566
        },
        "outputId": "b3e9fcbc-205d-4da5-8bf6-dc6b75edaa71"
      },
      "cell_type": "code",
      "source": [
        "print(df_weights)\n",
        "s_word_freq = pd.Series(df_weights['count'])\n",
        "s_word_freq.index = df_weights['word']\n",
        "di_word_freq = s_word_freq.to_dict()\n",
        "\n",
        "print(\"---\")\n",
        "print(\"di_word_freq:\")\n",
        "for k,v in di_word_freq.items():\n",
        "  print(k,v)\n",
        "\n",
        "cloud = wordcloud.WordCloud(width=900, height=500).generate_from_frequencies(di_word_freq)\n",
        "plt.imshow(cloud)\n",
        "plt.axis('off')\n",
        "plt.show()"
      ],
      "execution_count": null,
      "outputs": [
        {
          "output_type": "stream",
          "text": [
            "  word  count  weight\n",
            "0  bbb      6  0.4789\n",
            "1  aaa      6  0.4669\n",
            "2  ccc      2  0.2178\n",
            "3  eee      1  0.1350\n",
            "4  fff      1  0.1350\n",
            "5  ddd      1  0.1266\n",
            "---\n",
            "di_word_freq:\n",
            "bbb 6\n",
            "aaa 6\n",
            "ccc 2\n",
            "eee 1\n",
            "fff 1\n",
            "ddd 1\n"
          ],
          "name": "stdout"
        },
        {
          "output_type": "display_data",
          "data": {
            "image/png": "[encoded data removed]",
            "text/plain": [
              "<matplotlib.figure.Figure at 0x7fe7ca3a4780>"
            ]
          },
          "metadata": {
            "tags": []
          }
        }
      ]
    },
    {
      "metadata": {
        "id": "GHXmgodHyHBR"
      },
      "cell_type": "markdown",
      "source": [
        "## 3. Dimensionality Reduction using PCA"
      ]
    },
    {
      "metadata": {
        "id": "hs9P1aBhDJib"
      },
      "cell_type": "markdown",
      "source": [
        "Before attempting to cluster the data, we will usually want to reduce the dimensionality of the data because this helps to mitigate the problem of overfitting. Note the distinction between the two terms:\n",
        "\n",
        "* Dimensionality reduction: find the linear combinations of variables that are most 'interesting' in the data. For example, the polular PCA technique finds linear transformations of input features that maximize the variance of the data points along the new axes.\n",
        "\n",
        "* Clustering: find data points that can be grouped together as separate classes."
      ]
    },
    {
      "metadata": {
        "id": "jsbr2smZyGJq",
        "colab": {
          "base_uri": "https://localhost:8080/",
          "height": 123
        },
        "outputId": "25f58285-297b-4d23-f5c4-e2f10cc35615"
      },
      "cell_type": "code",
      "source": [
        "# Dimensionality reduction using PCA, reduce the tfidf matrix to just 2 features\n",
        "X = tfidf.todense()\n",
        "pca = PCA(n_components=2)\n",
        "pca.fit(X)\n",
        "X_pca = pca.transform(X)\n",
        "\n",
        "print(\"X_pca now has just 2 columns:\")\n",
        "print(X_pca)"
      ],
      "execution_count": null,
      "outputs": [
        {
          "output_type": "stream",
          "text": [
            "X_pca now has just 2 columns:\n",
            "[[-0.33479819  0.70798379]\n",
            " [ 0.41621679 -0.01261977]\n",
            " [ 0.57969288  0.01365307]\n",
            " [-0.33055574 -0.35450854]\n",
            " [-0.33055574 -0.35450854]]\n"
          ],
          "name": "stdout"
        }
      ]
    },
    {
      "metadata": {
        "id": "lwt8PhGtfR7W"
      },
      "cell_type": "markdown",
      "source": [
        "##4. Calculate K-means clusters (unsupervised classification) "
      ]
    },
    {
      "metadata": {
        "id": "NXhl1YxUhwJJ",
        "colab": {
          "base_uri": "https://localhost:8080/",
          "height": 293
        },
        "outputId": "a0b2c9d7-4369-4a3b-af68-89b30370f190"
      },
      "cell_type": "code",
      "source": [
        "km_model = KMeans(n_clusters=n_clusters, max_iter=10, n_init=2, random_state=0)\n",
        "\n",
        "# K-means (from number of features in input matrix to n_clusters)\n",
        "km_model.fit(X_pca)\n",
        "df_centers = pd.DataFrame(km_model.cluster_centers_, columns=['x', 'y'])\n",
        "\n",
        "plt.figure(figsize=(4,4))\n",
        "plt.suptitle('PCA features colored by class; grey circles show the k-means centers')\n",
        "plt.scatter(X_pca[:, 0], X_pca[:, 1], c=km_model.labels_, s=50, cmap='jet')\n",
        "plt.scatter(df_centers['x'], df_centers['y'], c='grey', s=500, alpha=0.2);\n",
        "\n",
        "dy = 0.04\n",
        "for i, txt in enumerate(km_model.labels_):\n",
        "    plt.annotate(txt, (X_pca[i, 0], X_pca[i, 1] + dy))\n"
      ],
      "execution_count": null,
      "outputs": [
        {
          "output_type": "display_data",
          "data": {
            "image/png": "[encoded data removed]",
            "text/plain": [
              "<matplotlib.figure.Figure at 0x7fe7c7dc76a0>"
            ]
          },
          "metadata": {
            "tags": []
          }
        }
      ]
    },
    {
      "metadata": {
        "id": "8nffo4bmaJd5",
        "colab": {
          "base_uri": "https://localhost:8080/",
          "height": 176
        },
        "outputId": "ec3f599d-5a54-457f-edc9-29072d9051f5"
      },
      "cell_type": "code",
      "source": [
        "print(\"km_model.labels_:\", km_model.labels_)\n",
        "print(\"This corresponds to the sentence labels shown below as follows:\")\n",
        "print(df_sentences['Label'].tolist())\n",
        "print(\"---\")\n",
        "print(\"df_centers:\")\n",
        "print(df_centers)"
      ],
      "execution_count": null,
      "outputs": [
        {
          "output_type": "stream",
          "text": [
            "km_model.labels_: [2 1 1 0 0]\n",
            "This corresponds to the sentence labels shown below as follows:\n",
            "['X', 'Y', 'Y', 'Z', 'Z']\n",
            "---\n",
            "df_centers:\n",
            "        x       y\n",
            "0 -0.3306 -0.3545\n",
            "1  0.4980  0.0005\n",
            "2 -0.3348  0.7080\n"
          ],
          "name": "stdout"
        }
      ]
    },
    {
      "metadata": {
        "id": "Uo7TJWcsdSda"
      },
      "cell_type": "markdown",
      "source": [
        "**Note above how the center coordinates for the k-means model correspond to the original sentences shown below. The dimensions of the centers are: (n_clusters, n_features). Each row corresponds to one of the sentences. We often run PCA as the first step and therefore end up with 2 remaining features (n_features = 2). **"
      ]
    },
    {
      "metadata": {
        "id": "DAysWv3UdS04",
        "colab": {
          "base_uri": "https://localhost:8080/",
          "height": 123
        },
        "outputId": "28451d46-d8bd-4132-cb02-a91c8d0a1206"
      },
      "cell_type": "code",
      "source": [
        "print(df_sentences)"
      ],
      "execution_count": null,
      "outputs": [
        {
          "output_type": "stream",
          "text": [
            "  Label         Sentence\n",
            "0     X          aaa aaa\n",
            "1     Y      aaa bbb bbb\n",
            "2     Y  aaa bbb bbb ddd\n",
            "3     Z  aaa bbb ccc eee\n",
            "4     Z  aaa bbb ccc fff\n"
          ],
          "name": "stdout"
        }
      ]
    },
    {
      "metadata": {
        "id": "KTAnibct435-"
      },
      "cell_type": "markdown",
      "source": [
        "## Summary"
      ]
    },
    {
      "metadata": {
        "id": "vCRCYBm945dc"
      },
      "cell_type": "markdown",
      "source": [
        "The following data science techniques were demonstrated in the context of NLP (Natural Language Processing) using python's nltk library:\n",
        "\n",
        "* Vectorize text to a numeric matrix using TF-IDF\n",
        "\n",
        "* Dimensionality Reduction using PCA\n",
        "\n",
        "* Calculate K-means clusters (unsupervised classification) "
      ]
    }
  ]
}